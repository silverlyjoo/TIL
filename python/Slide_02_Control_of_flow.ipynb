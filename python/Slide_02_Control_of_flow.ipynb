{
 "cells": [
  {
   "cell_type": "markdown",
   "metadata": {
    "slideshow": {
     "slide_type": "slide"
    }
   },
   "source": [
    "# 조건문\n",
    "\n",
    "지금까지의 코드는 위에서부터 아래로 순차적으로 명령을 수행하는 프로그램을 작성하였다. \n",
    "\n",
    "제어문(Control of Flow)은 크게 반복문과 조건문으로 나눌 수 있고, 이는 순서도(Flow chart로 표현이 가능하다.)"
   ]
  },
  {
   "cell_type": "markdown",
   "metadata": {
    "slideshow": {
     "slide_type": "subslide"
    }
   },
   "source": [
    "<center> \n",
    "    <img src=\"./images/02/if.png\", alt='if flowchart'/>\n",
    "</center>"
   ]
  },
  {
   "cell_type": "code",
   "execution_count": null,
   "metadata": {
    "scrolled": true,
    "slideshow": {
     "slide_type": "-"
    }
   },
   "outputs": [],
   "source": [
    "# 위의 flow chart로 표현하면 아래와 같다.\n"
   ]
  },
  {
   "cell_type": "markdown",
   "metadata": {
    "slideshow": {
     "slide_type": "slide"
    }
   },
   "source": [
    "## 조건문 문법\n",
    "\n",
    "1. `if` 문은 반드시 일정한 참/거짓을 판단할 수 있는 `조건식`과 함께 사용이 되어야한다.\n",
    "`if <조건식>:`\n",
    "\n",
    "2-1. `<조건식>`이 참인 경우 `:` 이후의 문장을 수행한다.\n",
    "\n",
    "2-2. `<조건식>`이 거짓인 경우 `else:` 이후의 문장을 수행한다.\n",
    "\n",
    "* 이때 반드시 **들여쓰기를** 유의해야한다. \n",
    "파이썬에서는 코드 블록을 자바나 C언어의 `{}`와 달리 `들여쓰기`로 판단하기 때문이다.\n",
    "* 앞으로 우리는 `PEP-8`에서 권장하는 `4spaces`를 사용할 것이다.\n"
   ]
  },
  {
   "cell_type": "markdown",
   "metadata": {
    "slideshow": {
     "slide_type": "subslide"
    }
   },
   "source": [
    "<center>\n",
    "    <img src=\"./images/02/if_style.png\", alt=\"if style\"/>\n",
    "</center>"
   ]
  },
  {
   "cell_type": "markdown",
   "metadata": {
    "slideshow": {
     "slide_type": "subslide"
    }
   },
   "source": [
    "<center><strong style=\"font-size: 40px;\">우리는 4spaces를 맞춰서 씁니다!</strong></center>\n",
    "<br>\n",
    "\n",
    "<center>\n",
    "    <img src=\"./images/02/spacetab.png\", alt=\"[space vs tab]\"/>\n",
    "</center>    \n",
    "\n",
    "\n",
    "\n",
    "\n",
    "[출처 : 400,000 GitHub repositories, 1 billion files, 14 terabytes of code: Spaces or Tabs?](https://medium.com/@hoffa/400-000-github-repositories-1-billion-files-14-terabytes-of-code-spaces-or-tabs-7cfe0b5dd7fd)\n"
   ]
  },
  {
   "cell_type": "markdown",
   "metadata": {
    "slideshow": {
     "slide_type": "subslide"
    }
   },
   "source": [
    "### 실습문제1 - 조건문 기초 활용\n",
    "\n",
    "\n",
    "> **조건문을 통해 변수 num의 값과 홀수/짝수 여부를 출력하세요.**\n",
    "\n",
    "---\n",
    "\n",
    "```\n",
    "예시 출력)\n",
    "3\n",
    "홀수입니다.\n",
    "```"
   ]
  },
  {
   "cell_type": "code",
   "execution_count": null,
   "metadata": {
    "slideshow": {
     "slide_type": "-"
    }
   },
   "outputs": [],
   "source": [
    "# 실습!\n",
    "num = int(input(\"점수를 입력하세요 : \"))\n",
    "# 아래에 코드를 작성하세요."
   ]
  },
  {
   "cell_type": "markdown",
   "metadata": {
    "slideshow": {
     "slide_type": "slide"
    }
   },
   "source": [
    "## 복수 조건문\n",
    "\n",
    "2개 이상의 조건문을 활용할 경우 `elif <조건식>:`을 활용한다.\n",
    "<center>\n",
    "<img src=\"./images/02/elif.png\", alt=\"elif\">\n",
    "</center>"
   ]
  },
  {
   "cell_type": "markdown",
   "metadata": {
    "slideshow": {
     "slide_type": "subslide"
    }
   },
   "source": [
    "### 실습문제2 - 조건식 2개 이상 활용하기\n",
    "\n",
    "> 조건문을 통해 변수 score에 따른 평점을 출력하세요.\n",
    "\n",
    "|점수|등급|\n",
    "|---|---|\n",
    "|90점 이상|A|\n",
    "|80점 이상|B|\n",
    "|70점 이상|C|\n",
    "|60점 이상|D|\n",
    "|60점 미만|F|\n",
    "\n",
    "--- \n",
    "\n",
    "```\n",
    "예시 출력)\n",
    "B\n",
    "```"
   ]
  },
  {
   "cell_type": "code",
   "execution_count": null,
   "metadata": {
    "slideshow": {
     "slide_type": "-"
    }
   },
   "outputs": [],
   "source": [
    "# 실습!\n",
    "score = int(input(\"점수를 입력하세요 : \"))\n",
    "# 아래에 코드를 작성하세요."
   ]
  },
  {
   "cell_type": "markdown",
   "metadata": {
    "slideshow": {
     "slide_type": "subslide"
    }
   },
   "source": [
    "### 실습문제3 - 중첩 조건문 활용\n",
    "\n",
    "> **위의 실습문제 2코드를 활용하여 \n",
    "95점 이상이면, \"참잘했어요\"를 함께 출력해주세요**\n",
    "\n",
    "--- \n",
    "\n",
    "```\n",
    "예시 출력)\n",
    "A\n",
    "참잘했어요\n",
    "```"
   ]
  },
  {
   "cell_type": "code",
   "execution_count": null,
   "metadata": {},
   "outputs": [],
   "source": [
    "# 실습!\n",
    "score = 96"
   ]
  },
  {
   "cell_type": "markdown",
   "metadata": {
    "slideshow": {
     "slide_type": "slide"
    }
   },
   "source": [
    "## 조건 표현식(Conditional Expression)\n",
    "\n",
    "**활용법**\n",
    "\n",
    "```\n",
    "true_value if <조건식> else false_value\n",
    "```\n",
    "    \n",
    "와 같이 표현식을 작성할 수 있다. 이는 보통 다른 언어에서 활용되는 삼항연산자와 동일하다."
   ]
  },
  {
   "cell_type": "code",
   "execution_count": null,
   "metadata": {
    "slideshow": {
     "slide_type": "subslide"
    }
   },
   "outputs": [],
   "source": []
  },
  {
   "cell_type": "markdown",
   "metadata": {
    "slideshow": {
     "slide_type": "subslide"
    }
   },
   "source": [
    "* 표현식은 보통 조건에 따라 값을 정할 때 많이 활용된다."
   ]
  },
  {
   "cell_type": "code",
   "execution_count": null,
   "metadata": {},
   "outputs": [],
   "source": []
  },
  {
   "cell_type": "code",
   "execution_count": null,
   "metadata": {
    "slideshow": {
     "slide_type": "fragment"
    }
   },
   "outputs": [],
   "source": [
    "# 위의 코드와 동일한 코드입니다."
   ]
  },
  {
   "cell_type": "code",
   "execution_count": null,
   "metadata": {
    "slideshow": {
     "slide_type": "subslide"
    }
   },
   "outputs": [],
   "source": [
    "# 다음의 코드와 동일한 조건 표현식을 작성해보세요.\n",
    "num = 2\n",
    "if num % 2:\n",
    "    result = '홀수입니다.'\n",
    "else:\n",
    "    result = '짝수입니다.'\n",
    "print(result)"
   ]
  },
  {
   "cell_type": "code",
   "execution_count": null,
   "metadata": {},
   "outputs": [],
   "source": [
    "# 여기에 코드를 작성하세요."
   ]
  },
  {
   "cell_type": "markdown",
   "metadata": {
    "slideshow": {
     "slide_type": "slide"
    }
   },
   "source": [
    "# 반복문\n",
    "\n",
    "## `while` 문\n",
    "\n",
    "`while`문은 조건식이 참(True)인 경우 반복적으로 코드를 실행합니다. "
   ]
  },
  {
   "cell_type": "markdown",
   "metadata": {},
   "source": [
    "<center> \n",
    "    <img src=\"./images/02/while.png\", alt=\"while\"/>\n",
    "</center>\n",
    "\n",
    "**while 문은 종료조건을 반드시 설정해주어야 합니다.**"
   ]
  },
  {
   "cell_type": "code",
   "execution_count": null,
   "metadata": {
    "slideshow": {
     "slide_type": "subslide"
    }
   },
   "outputs": [],
   "source": [
    "# 위의 flow chart로 표현하면 아래와 같다.\n"
   ]
  },
  {
   "cell_type": "markdown",
   "metadata": {
    "slideshow": {
     "slide_type": "subslide"
    }
   },
   "source": [
    "<center>\n",
    "    <img src=\"./images/02/while_style.png\", alt=\"\">\n",
    "</center>\n",
    "\n",
    "`while`문 역시 `<조건식>`이후에 `:`이 반드시 필요하며, \n",
    "\n",
    "이후 오는 코드 블록은 `4spaces`로 **들여쓰기**를 해주셔야 합니다."
   ]
  },
  {
   "cell_type": "markdown",
   "metadata": {
    "slideshow": {
     "slide_type": "slide"
    }
   },
   "source": [
    "## `for` 문\n",
    "\n",
    "`for`문은 정해진 범위 내(시퀀스)에서 순차적으로 코드를 실행합니다.\n",
    "\n",
    "<br>\n",
    "<center>\n",
    "    <img src=\"./images/02/loop-for.png\", alt=\"\">\n",
    "</center>"
   ]
  },
  {
   "cell_type": "code",
   "execution_count": null,
   "metadata": {
    "slideshow": {
     "slide_type": "subslide"
    }
   },
   "outputs": [],
   "source": [
    "# 위의 flow chart로 표현하면 아래와 같다.\n"
   ]
  },
  {
   "cell_type": "markdown",
   "metadata": {
    "slideshow": {
     "slide_type": "subslide"
    }
   },
   "source": [
    "<center>\n",
    "    <img src=\"./images/02/for_style.png\", alt=\"for_style\">\n",
    "</center>\n",
    "\n",
    "---\n",
    "```\n",
    "for variable in sequence:\n",
    "    code line1\n",
    "    code line2\n",
    "```\n",
    "\n",
    "`for`문은 `sequence`를 순차적으로 **variable**에 값을 바인딩하며, 코드 블록을 시행합니다."
   ]
  },
  {
   "cell_type": "markdown",
   "metadata": {
    "slideshow": {
     "slide_type": "subslide"
    }
   },
   "source": [
    "![for animation](./images/02/for.gif)"
   ]
  },
  {
   "cell_type": "markdown",
   "metadata": {
    "slideshow": {
     "slide_type": "subslide"
    }
   },
   "source": [
    "###  실습문제\n",
    "\n",
    "> 반복문과 조건문만 활용하여 1~30까지 숫자 중에 홀수만 담긴 리스트를 만드세요\n",
    "\n",
    "---\n",
    "```\n",
    "예시 출력)\n",
    "[1, 3, 5, 7, 9, 11, 13, 15, 17, 19, 21, 23, 25, 27, 29]\n",
    "```"
   ]
  },
  {
   "cell_type": "code",
   "execution_count": null,
   "metadata": {
    "slideshow": {
     "slide_type": "-"
    }
   },
   "outputs": [],
   "source": [
    "# 여기에 코드를 작성하세요."
   ]
  },
  {
   "cell_type": "markdown",
   "metadata": {
    "slideshow": {
     "slide_type": "slide"
    }
   },
   "source": [
    "### index와 함께 `for`문 활용하기\n",
    "\n",
    "`enumerate()`를 활용하면, 추가적인 변수를 활용할 수 있다."
   ]
  },
  {
   "cell_type": "code",
   "execution_count": null,
   "metadata": {},
   "outputs": [],
   "source": [
    "lunch = ['짜장면', '초밥']\n"
   ]
  },
  {
   "cell_type": "markdown",
   "metadata": {
    "slideshow": {
     "slide_type": "subslide"
    }
   },
   "source": [
    "* `enumerate()`는 [파이썬 표준 라이브러리의 내장함수](https://docs.python.org/ko/3.6/library/functions.html) 중 하나이며, 다음과 같이 구성되어 있다.\n",
    "\n",
    "<center>\n",
    "    <img src=\"./images/02/enumerate.png\", alt=\"enumerate\">\n",
    "</center>"
   ]
  },
  {
   "cell_type": "code",
   "execution_count": null,
   "metadata": {
    "slideshow": {
     "slide_type": "subslide"
    }
   },
   "outputs": [],
   "source": [
    "classroom = ['Kim', 'Hong', 'Kang']\n"
   ]
  },
  {
   "cell_type": "code",
   "execution_count": null,
   "metadata": {},
   "outputs": [],
   "source": []
  },
  {
   "cell_type": "markdown",
   "metadata": {
    "slideshow": {
     "slide_type": "subslide"
    }
   },
   "source": [
    "### dictionary 반복문 활용하기\n",
    "\n",
    "기본적으로 dictionary를 `for`문을 시행시키면 다음과 같이 시행됩니다."
   ]
  },
  {
   "cell_type": "code",
   "execution_count": null,
   "metadata": {},
   "outputs": [],
   "source": [
    "classroom = {\"teacher\": \"Kim\", \"student1\": \"Hong\", \"student2\": \"Kang\"}\n"
   ]
  },
  {
   "cell_type": "markdown",
   "metadata": {
    "slideshow": {
     "slide_type": "subslide"
    }
   },
   "source": [
    "dictionary의 `key`를 출력함으로써 `value`에도 접근할 수 있기 때문입니다.\n",
    "\n",
    "따라서 dictionary의 value를 출력하기 위해서는 아래와 같이 작성합니다."
   ]
  },
  {
   "cell_type": "code",
   "execution_count": null,
   "metadata": {},
   "outputs": [],
   "source": []
  },
  {
   "cell_type": "markdown",
   "metadata": {
    "slideshow": {
     "slide_type": "subslide"
    }
   },
   "source": [
    "* dictionary에서 `for` 활용하는 4가지 방법\n",
    "\n",
    "```python\n",
    "# 0. dictionary (key 반복)\n",
    "for key in dict:\n",
    "    print(key)\n",
    "\n",
    "# 1. key 반복\n",
    "for key in dict.keys():\n",
    "    print(key)\n",
    "    \n",
    "# 2. value 반복    \n",
    "for val in dict.values():\n",
    "    print(val)\n",
    "\n",
    "# 3. key와 value 반복\n",
    "for key, val in dict.items():\n",
    "    print(key, val)\n",
    "\n",
    "```"
   ]
  },
  {
   "cell_type": "markdown",
   "metadata": {
    "slideshow": {
     "slide_type": "subslide"
    }
   },
   "source": [
    "### 실습문제 \n",
    "\n",
    "> 한번 직접 4가지 반복문을 활용해보고 출력되는 결과를 확인해보세요.\n",
    "\n",
    "```\n",
    "classroom = {\"teacher\": \"Kim\", \"student1\": \"Hong\", \"student2\": \"Kang\"}\n",
    "\n",
    "```"
   ]
  },
  {
   "cell_type": "code",
   "execution_count": null,
   "metadata": {},
   "outputs": [],
   "source": [
    "# 여기에 코드를 작성하세요.\n",
    "classroom = {\"teacher\": \"Kim\", \"student1\": \"Hong\", \"student2\": \"Kang\"}"
   ]
  },
  {
   "cell_type": "markdown",
   "metadata": {
    "slideshow": {
     "slide_type": "slide"
    }
   },
   "source": [
    "## `break`, `continue`, `else` : 반복문 제어\n",
    "1. `break` : (전체 루프문을 지나) 감싸고 있는 가장 근접한 루프의 바깥으로 이동한다.\n",
    "2. `continue` : (루프의 헤더 라인으로) 감싸고 있는 가장 근접한 루프의 최상단으로 이동한다.\n",
    "3. 루프 `else` 블록 : 루프가 정상적으로(즉, break 를 만나지 않고) 종료된 경우에만 실핸한다."
   ]
  },
  {
   "cell_type": "code",
   "execution_count": null,
   "metadata": {},
   "outputs": [],
   "source": [
    "while test:\n",
    "    statements\n",
    "    if test:\n",
    "        break            # 바로 루프를 빠져나감. else 문 생략.\n",
    "        continue         # 바로 루프 상단에 있는 test 로 이동.\n",
    "else:\n",
    "    statements           # break 를 만나지 않고 루프를 종료할 경우 실행."
   ]
  },
  {
   "cell_type": "markdown",
   "metadata": {},
   "source": [
    "### `break` : 반복문 끝내기\n",
    "\n",
    "- `break`문은 반복문을 종료하는 표현입니다.\n",
    "- 반복문을 중단하고 빠져나옵니다."
   ]
  },
  {
   "cell_type": "code",
   "execution_count": null,
   "metadata": {},
   "outputs": [],
   "source": [
    "# break 문을 활용해봅시다."
   ]
  },
  {
   "cell_type": "markdown",
   "metadata": {
    "slideshow": {
     "slide_type": "subslide"
    }
   },
   "source": [
    "#### 실습문제\n",
    "\n",
    "> 조건문과 반복문, break를 통해서 아래의 코드와 동일한 코드를 작성하세요.\n",
    "> \n",
    "> (3이 있을 경우 True를 print하고, 아닐 경우 False를 print 합니다.)\n",
    "\n",
    "\n",
    "```python\n",
    "numbers = [1, 5, 10]\n",
    "print(3 in numbers)\n",
    "```\n",
    "\n",
    "---\n",
    "```\n",
    "예시 출력)\n",
    "False\n",
    "```"
   ]
  },
  {
   "cell_type": "code",
   "execution_count": null,
   "metadata": {
    "slideshow": {
     "slide_type": "subslide"
    }
   },
   "outputs": [],
   "source": [
    "numbers = [1, 5, 10]\n",
    "# 여기에 코드를 작성하세요."
   ]
  },
  {
   "cell_type": "markdown",
   "metadata": {
    "slideshow": {
     "slide_type": "subslide"
    }
   },
   "source": [
    "### `continue` : 코드실행 건너뛰기\n",
    "\n",
    "- `continue`문은 continue 이후의 코드를 수행하지 않고 다음 요소를 선택해 반복을 계속 수행합니다.\n",
    "- break 와 약간 다른점은 continue 는 제어흐름(반복)을 유지한 상태에서 코드의 실행만 건너뛴다."
   ]
  },
  {
   "cell_type": "code",
   "execution_count": null,
   "metadata": {},
   "outputs": [],
   "source": [
    "# continue 문을 활용해봅시다."
   ]
  },
  {
   "cell_type": "markdown",
   "metadata": {
    "slideshow": {
     "slide_type": "subslide"
    }
   },
   "source": [
    "### `else`\n",
    "\n",
    "- `else`문은 끝까지 반복문을 시행한 이후에 실행됩니다.\n",
    "\n",
    "- `break`를 통해 중간에 종료되지 않은 경우만 실행."
   ]
  },
  {
   "cell_type": "code",
   "execution_count": null,
   "metadata": {
    "slideshow": {
     "slide_type": "subslide"
    }
   },
   "outputs": [],
   "source": [
    "# break 시행 안됨 예시\n"
   ]
  },
  {
   "cell_type": "code",
   "execution_count": null,
   "metadata": {},
   "outputs": [],
   "source": [
    "# break 시행 됨 예시\n"
   ]
  },
  {
   "cell_type": "code",
   "execution_count": null,
   "metadata": {},
   "outputs": [],
   "source": [
    "# 앞선 실습문제를 else를 통해 개선해봅시다.\n",
    "numbers = [1, 5, 10]\n",
    "# 여기에 코드를 작성하세요."
   ]
  }
 ],
 "metadata": {
  "celltoolbar": "Slideshow",
  "kernelspec": {
   "display_name": "Python 3",
   "language": "python",
   "name": "python3"
  },
  "language_info": {
   "codemirror_mode": {
    "name": "ipython",
    "version": 3
   },
   "file_extension": ".py",
   "mimetype": "text/x-python",
   "name": "python",
   "nbconvert_exporter": "python",
   "pygments_lexer": "ipython3",
   "version": "3.6.7"
  },
  "toc": {
   "base_numbering": 1,
   "nav_menu": {},
   "number_sections": true,
   "sideBar": true,
   "skip_h1_title": false,
   "title_cell": "Table of Contents",
   "title_sidebar": "Contents",
   "toc_cell": false,
   "toc_position": {},
   "toc_section_display": true,
   "toc_window_display": false
  }
 },
 "nbformat": 4,
 "nbformat_minor": 2
}

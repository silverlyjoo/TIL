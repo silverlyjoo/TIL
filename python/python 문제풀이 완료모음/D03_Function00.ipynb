{
 "cells": [
  {
   "cell_type": "markdown",
   "metadata": {},
   "source": [
    "# `abs()`\n",
    "\n",
    "> 절대값은 숫자(int, float)가 들어오면 절대값을 반환하고, 복소수(complex)가 들어오면 그 크기를 반환합니다.\n",
    "> \n",
    "> `my_abs(x)`를 만들어보세요."
   ]
  },
  {
   "cell_type": "markdown",
   "metadata": {},
   "source": [
    "**공식문서**\n",
    "<center>\n",
    "    <img src=\"./images/P01/abs0.png\", alt=\"\">\n",
    "</center>"
   ]
  },
  {
   "cell_type": "markdown",
   "metadata": {},
   "source": [
    "**복소수 크기 구하는법**\n",
    "<center>\n",
    "    <img src=\"./images/P01/abs.png\", alt=\"\">\n",
    "</center>"
   ]
  },
  {
   "cell_type": "code",
   "execution_count": 183,
   "metadata": {
    "scrolled": true
   },
   "outputs": [
    {
     "name": "stdout",
     "output_type": "stream",
     "text": [
      "5.0 0.0 5 0\n"
     ]
    }
   ],
   "source": [
    "# 예제 입력 및 출력\n",
    "print(abs(3+4j), abs(-0.0), abs(-5), abs(0))"
   ]
  },
  {
   "cell_type": "code",
   "execution_count": 121,
   "metadata": {},
   "outputs": [],
   "source": [
    "def my_abs(args):\n",
    "    if type(args) == complex:\n",
    "        return (args.real**2 + args.imag**2)**(1/2)\n",
    "    elif type(args) == float:\n",
    "        return (args**2)**(1/2)\n",
    "    elif type(args) == int:\n",
    "        return int((args**2)**(1/2))"
   ]
  },
  {
   "cell_type": "code",
   "execution_count": 1,
   "metadata": {},
   "outputs": [
    {
     "name": "stdout",
     "output_type": "stream",
     "text": [
      "<class 'complex'>\n"
     ]
    }
   ],
   "source": [
    "print(type(3+4j))"
   ]
  },
  {
   "cell_type": "code",
   "execution_count": 184,
   "metadata": {},
   "outputs": [
    {
     "name": "stdout",
     "output_type": "stream",
     "text": [
      "5.0 0.0 5 0 5\n"
     ]
    }
   ],
   "source": [
    "# 결과 확인\n",
    "print(my_abs(3+4j), my_abs(-0.0), my_abs(-5), my_abs(0), my_abs(5))"
   ]
  },
  {
   "cell_type": "markdown",
   "metadata": {},
   "source": [
    "# all(x)\n",
    "\n",
    "> all은 인자로 받는 iterable(range, list)의 모든 요소가 참이면 True, 거짓이 하나라도 있으면 False를 리턴한다.\n",
    ">\n",
    ">이와 같은 my_all(x)을 작성해보세요"
   ]
  },
  {
   "cell_type": "code",
   "execution_count": 194,
   "metadata": {},
   "outputs": [
    {
     "name": "stdout",
     "output_type": "stream",
     "text": [
      "False\n",
      "False\n",
      "False\n"
     ]
    }
   ],
   "source": [
    "# 예제 입력 및 출력\n",
    "print(all([1, 0, 5, '6']))\n",
    "print(all([[], 2, 5, '6']))\n",
    "\n",
    "print(all([[]]))"
   ]
  },
  {
   "cell_type": "code",
   "execution_count": 189,
   "metadata": {},
   "outputs": [],
   "source": [
    "# 아래에 코드를 작성해주세요.\n",
    "\n",
    "def my_all(args):\n",
    "    for i in args:\n",
    "        if not i:\n",
    "            return False\n",
    "    return True"
   ]
  },
  {
   "cell_type": "code",
   "execution_count": 192,
   "metadata": {
    "scrolled": true
   },
   "outputs": [
    {
     "name": "stdout",
     "output_type": "stream",
     "text": [
      "False\n",
      "False\n",
      "False\n",
      "False\n",
      "[-1, 0, 1, 2, 3, 4, 5, 6, 7, 8]\n"
     ]
    }
   ],
   "source": [
    "# 결과 확인\n",
    "print(my_all([1, 0, 5, '6']))\n",
    "print(my_all([[], 2, 5, '6']))\n",
    "print(my_all(list(range(-1, 9))))\n",
    "print(my_all([0]))\n",
    "print(list(range(-1, 9)))"
   ]
  },
  {
   "cell_type": "markdown",
   "metadata": {},
   "source": [
    "# any(x)\n",
    "\n",
    "> any는 인자로 받는 iterable(range, list)의 하나라도 참이면 True를 리턴하고, 인자가 모두 거짓일 경우에만 False를 리턴한다. (all(x)의 반대.)\n",
    ">\n",
    "> 이와 같은 my_any(x)를 작성해보세요."
   ]
  },
  {
   "cell_type": "code",
   "execution_count": 202,
   "metadata": {},
   "outputs": [
    {
     "name": "stdout",
     "output_type": "stream",
     "text": [
      "True\n",
      "True\n",
      "True\n",
      "False\n"
     ]
    }
   ],
   "source": [
    "# 예제 입력 및 출력\n",
    "print(any([1, 2, 5, '6']))\n",
    "print(any([[], 2, 5, '6']))\n",
    "print(any([0, 2, 5, '6']))\n",
    "print(any([0]))"
   ]
  },
  {
   "cell_type": "code",
   "execution_count": 200,
   "metadata": {},
   "outputs": [],
   "source": [
    "# 아래에 코드를 작성해주세요.\n",
    "def my_any(args):\n",
    "    for i in args:\n",
    "        if i:\n",
    "            return True\n",
    "    return False"
   ]
  },
  {
   "cell_type": "code",
   "execution_count": 201,
   "metadata": {},
   "outputs": [
    {
     "name": "stdout",
     "output_type": "stream",
     "text": [
      "True\n",
      "True\n",
      "True\n",
      "False\n"
     ]
    }
   ],
   "source": [
    "# 결과 확인\n",
    "print(my_any([1, 2, 5, '6']))\n",
    "print(my_any([[], 2, 5, '6']))\n",
    "print(my_any([0, 2, 5, '6']))\n",
    "print(my_any([0]))"
   ]
  },
  {
   "cell_type": "markdown",
   "metadata": {},
   "source": [
    "# `bin(integer)`\n",
    "\n",
    "> `양의 정수`를 받아서 앞에 '0b'를 붙어 있는 2진수로 표현됩니다.\n",
    ">\n",
    "> 이와 같은 `my_bin(x)`를 작성해보세요.\n",
    "\n",
    "* 음수는 고려하지 않아도 됩니다."
   ]
  },
  {
   "cell_type": "markdown",
   "metadata": {},
   "source": [
    "<center>\n",
    "    <img src=\"./images/P01/bin.png\", alt=\"bin\">\n",
    "</center>"
   ]
  },
  {
   "cell_type": "code",
   "execution_count": 182,
   "metadata": {},
   "outputs": [
    {
     "name": "stdout",
     "output_type": "stream",
     "text": [
      "0b1000000000000 0b101\n"
     ]
    }
   ],
   "source": [
    "# bin 예제 입력 및 출력\n",
    "print(bin(4096), bin(5))"
   ]
  },
  {
   "cell_type": "code",
   "execution_count": null,
   "metadata": {},
   "outputs": [],
   "source": [
    "# 아래에 코드를 작성해주세요.\n",
    "\n",
    "def my_bin(args):\n",
    "    while args // 2 != 0:\n",
    "        args/2"
   ]
  },
  {
   "cell_type": "code",
   "execution_count": null,
   "metadata": {},
   "outputs": [],
   "source": [
    "\n",
    "count = 0\n",
    "args = 4096\n",
    "while args:\n",
    "    count += 1\n",
    "    if args > 2**count:\n",
    "        break"
   ]
  },
  {
   "cell_type": "code",
   "execution_count": null,
   "metadata": {},
   "outputs": [],
   "source": [
    "# my_bin 예제 입력 및 출력\n",
    "print(my_bin(4096) == bin(4096))\n",
    "print(my_bin(5) == bin(5))"
   ]
  }
 ],
 "metadata": {
  "kernelspec": {
   "display_name": "Python 3",
   "language": "python",
   "name": "python3"
  },
  "language_info": {
   "codemirror_mode": {
    "name": "ipython",
    "version": 3
   },
   "file_extension": ".py",
   "mimetype": "text/x-python",
   "name": "python",
   "nbconvert_exporter": "python",
   "pygments_lexer": "ipython3",
   "version": "3.6.7"
  },
  "toc": {
   "base_numbering": 1,
   "nav_menu": {},
   "number_sections": true,
   "sideBar": true,
   "skip_h1_title": false,
   "title_cell": "Table of Contents",
   "title_sidebar": "Contents",
   "toc_cell": false,
   "toc_position": {},
   "toc_section_display": true,
   "toc_window_display": false
  }
 },
 "nbformat": 4,
 "nbformat_minor": 2
}

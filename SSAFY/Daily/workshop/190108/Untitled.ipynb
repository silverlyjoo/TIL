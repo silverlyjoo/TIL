{
 "cells": [
  {
   "cell_type": "markdown",
   "metadata": {},
   "source": [
    "- Palindrome은 앞에서부터 읽었을 때와 뒤에서부터 읽었을 때 같은 단어를 뜻합니다.\n",
    "따라서, ‘a’ ‘nan’ ’토마토’ 모두 palindrome에 해당합니다.\n",
    "- 따라서, 단어를 입력받아 Palindrome을 검증하고 True나 False를 리턴하는\n",
    "함수 palindrome(word)를 만들어보세요."
   ]
  },
  {
   "cell_type": "code",
   "execution_count": 12,
   "metadata": {},
   "outputs": [],
   "source": [
    "def palindrome(word):\n",
    "    word_list = list(word)\n",
    "    while word:\n",
    "        if len(word_list) == 1:\n",
    "            return True\n",
    "        elif word_list[0] == word_list[-1]:\n",
    "            word_list.pop(0)\n",
    "            word_list.pop(-1)\n",
    "        else:\n",
    "            return False"
   ]
  },
  {
   "cell_type": "code",
   "execution_count": 24,
   "metadata": {},
   "outputs": [],
   "source": [
    "#인덱스값 조정\n",
    "def palindrome(word):\n",
    "    left_word = 0\n",
    "    right_word = len(word) - 1\n",
    "    \n",
    "    while right_word >= left_word:\n",
    "        if word[left_word] != word[right_word]:\n",
    "            return False\n",
    "        left_word += 1\n",
    "        right_word -=1\n",
    "    return True\n",
    "        "
   ]
  },
  {
   "cell_type": "code",
   "execution_count": 26,
   "metadata": {},
   "outputs": [],
   "source": [
    "\n",
    "def palindrome(word):\n",
    "    list_word = list(word)\n",
    "    for i in range(len(list_word) // 2):\n",
    "        if list_word[i] != list_word[-i-1]:\n",
    "            return False\n",
    "    return True"
   ]
  },
  {
   "cell_type": "code",
   "execution_count": 28,
   "metadata": {},
   "outputs": [],
   "source": [
    "def palindrome(word):\n",
    "    return list(word) == list(reversed(word))"
   ]
  },
  {
   "cell_type": "code",
   "execution_count": null,
   "metadata": {},
   "outputs": [],
   "source": [
    "def palindrome(word):\n",
    "    return list(word) == list(word[::-1])"
   ]
  },
  {
   "cell_type": "code",
   "execution_count": 29,
   "metadata": {},
   "outputs": [
    {
     "name": "stdout",
     "output_type": "stream",
     "text": [
      "True\n",
      "False\n",
      "True\n"
     ]
    }
   ],
   "source": [
    "print(palindrome('saippuakivikauppias'))\n",
    "print(palindrome('hello'))\n",
    "print(palindrome('a'))"
   ]
  }
 ],
 "metadata": {
  "kernelspec": {
   "display_name": "Python 3",
   "language": "python",
   "name": "python3"
  },
  "language_info": {
   "codemirror_mode": {
    "name": "ipython",
    "version": 3
   },
   "file_extension": ".py",
   "mimetype": "text/x-python",
   "name": "python",
   "nbconvert_exporter": "python",
   "pygments_lexer": "ipython3",
   "version": "3.6.7"
  }
 },
 "nbformat": 4,
 "nbformat_minor": 2
}

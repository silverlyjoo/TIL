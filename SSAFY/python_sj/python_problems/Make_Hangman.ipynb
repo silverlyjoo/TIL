{
 "cells": [
  {
   "cell_type": "markdown",
   "metadata": {},
   "source": [
    "# 행맨 게임 만들기 "
   ]
  },
  {
   "cell_type": "markdown",
   "metadata": {},
   "source": [
    "## 답안 확인 하기\n",
    "\n",
    "> 행맨 게임을 위한 코드를 작성해봅시다. \n",
    ">\n",
    "> `isanswer(answer, letters)`는 정답 문자열(answer)과 추측 알파벳의 리스트(letters)를 받아서, True/False 결과를 반환합니다."
   ]
  },
  {
   "cell_type": "code",
   "execution_count": null,
   "metadata": {},
   "outputs": [],
   "source": [
    "def isanswer(answer, letters):\n",
    "    return not (set(answer) - set(letters))"
   ]
  },
  {
   "cell_type": "code",
   "execution_count": null,
   "metadata": {
    "scrolled": true
   },
   "outputs": [],
   "source": [
    "print(isanswer('apple', ['a', 'p', 'l'])) #=> False\n",
    "print(isanswer('apple', ['a', 'p', 'l', 'e', 'q'])) #=> True"
   ]
  },
  {
   "cell_type": "markdown",
   "metadata": {},
   "source": [
    "## 현재 상태 출력하기\n",
    "\n",
    "> 행맨 게임을 위한 코드를 작성해봅시다. \n",
    ">\n",
    "> `status(answer, letters)`는 정답 문자열(answer)과 추측 알파벳의 리스트(letters)를 받아서, 현재 결과를 반환합니다."
   ]
  },
  {
   "cell_type": "code",
   "execution_count": null,
   "metadata": {},
   "outputs": [],
   "source": [
    "# replace\n",
    "def status(answer, letters):\n",
    "    return ''.join([x if x in letters else '_' for x in answer])"
   ]
  },
  {
   "cell_type": "code",
   "execution_count": null,
   "metadata": {},
   "outputs": [],
   "source": [
    "print(status('apple', ['a', 'p', 'l', 'k', 'l'])) #=> 'appl_'"
   ]
  },
  {
   "cell_type": "markdown",
   "metadata": {},
   "source": [
    "## 행맨 로직 만들기 - 자유코딩!\n",
    "\n",
    "> 위의 코드를 활용하여 `hangman(answer)`를 만들어봅시다!\n",
    ">\n",
    "> 사용자가 답을 맞출 때까지 진행하며, 8번내로 정답을 맞춰야 합니다.\n"
   ]
  },
  {
   "cell_type": "code",
   "execution_count": null,
   "metadata": {},
   "outputs": [],
   "source": [
    "# 여기에 코드를 작성하세요.\n",
    "def isanswer(answer, letters):\n",
    "    return True if sorted(list(set(answer))) == sorted(letters) else False"
   ]
  },
  {
   "cell_type": "code",
   "execution_count": null,
   "metadata": {},
   "outputs": [],
   "source": [
    "# replace\n",
    "def status(answer, letters):\n",
    "    return ''.join([x if x in letters else '_' for x in answer])"
   ]
  },
  {
   "cell_type": "code",
   "execution_count": null,
   "metadata": {},
   "outputs": [],
   "source": [
    "#김연주씨\n",
    "def hangman(answer):\n",
    "    while True:\n",
    "        letters = input('알파벳을 입력하세요 : ')\n",
    "        if len(letters) <= 8:\n",
    "            n = 8\n",
    "            while n>0:\n",
    "                for alp in answer:\n",
    "                    if alp not in letters:\n",
    "                        answer = answer.replace(alp, '_')\n",
    "                        n = n-1\n",
    "                    else:\n",
    "                        n = n-1\n",
    "            if set(answer) - set(letters) == set(): \n",
    "                print('정답입니다')\n",
    "            else:\n",
    "                print('틀렸습니다')\n",
    "            break\n",
    "        print(\"너무 깁니다\")            \n",
    "    return answer"
   ]
  },
  {
   "cell_type": "code",
   "execution_count": null,
   "metadata": {},
   "outputs": [],
   "source": [
    "# 혜리\n",
    "def hangman(answer):\n",
    "    i = 0\n",
    "    man ='(@^_^@)ㄱ'\n",
    "    user = ['_ ' for x in range(len(answer))]\n",
    "    print(''.join(user), 'start!!')\n",
    "    while i < 8:\n",
    "        c = input()\n",
    "        if c in answer:\n",
    "            for j in range(len(answer)):\n",
    "                if answer[j] == c:\n",
    "                    user[j] = c\n",
    "            print(''.join(user), 7-i, 'turn left')\n",
    "        else:\n",
    "            for k in range(i+1):\n",
    "                print(man[k],end=\"\")\n",
    "            print('\\n',7-i, 'turn left')\n",
    "        i += 1\n",
    "        if answer == ''.join(user):\n",
    "            return 'you win!!'\n",
    "    else:\n",
    "        return '(@x_x@)ㄱ -------- Your man is dead'"
   ]
  },
  {
   "cell_type": "code",
   "execution_count": null,
   "metadata": {},
   "outputs": [],
   "source": [
    "# def hangman(answer):\n",
    "#     count = 0\n",
    "#     letters = []\n",
    "#     while count < 8:\n",
    "#         x = input()\n",
    "#         if x in letters:\n",
    "#             print('중복되었습니다.')\n",
    "#             continue\n",
    "#         elif len(x) > 1:\n",
    "#             print('한글자씩 넣어주세요.')\n",
    "#             continue\n",
    "#         else:\n",
    "#             count += 1\n",
    "#             letters.append(x)\n",
    "#             if isanswer(answer, letters):\n",
    "#                 print(status(answer, letters))\n",
    "#                 return print('정답입니다.')\n",
    "#             else:\n",
    "#                 print(status(answer, letters))\n",
    "\n",
    "#     else:\n",
    "#         return print('실패입니다')"
   ]
  },
  {
   "cell_type": "code",
   "execution_count": null,
   "metadata": {},
   "outputs": [],
   "source": [
    "# 상근\n",
    "def hangman(answer):\n",
    "   count = 0 #몇번째인지 카운트하는거임\n",
    "   active = 8 #몇번까지하면 종료인지 설정하는거\n",
    "   answer = answer.lower()\n",
    "   answersheet = [] #여태까지 선택한 답안들의모음\n",
    "   alphabetlist = 'abcdefghijklmnopqrstuwxyz' #남은 선택지리스트입니다.\n",
    "   while count < active and not isanswer(answer,answersheet): # 답을 아직 못맞춰거나 제한횟수전일때까지만 while loop\n",
    "       print(\"남은리스트: \", \",\".join(alphabetlist))       #남은 선택지리스트를 보여줌\n",
    "       selection = input(\"알파벳뭐넣을거임?\")   #유저선택을 받아옴\n",
    "       if selection not in alphabetlist:                  #이미선택했는지 검증\n",
    "           print(\"영어소문자하나만 넣어야하고 이미넣었던건안되\")\n",
    "           print(f\"카운트는 여전히 {count}야 \")\n",
    "           continue\n",
    "       answersheet.append(selection)              #아직 선택안됐으면 앤서쉬트에 넣음\n",
    "       alphabetlist = alphabetlist.replace(selection, \"\")          #선택한알파벳제거\n",
    "       print(f\"현재 단어상황 >> {status(answer, answersheet)} <<\")    #현재까지완성된단어보여줌\n",
    "       count +=1              #카운트+1\n",
    "       print(f\"현재까지 {count}번째 시도하였습니다.\")\n",
    "       print(\"-----------------------\")\n",
    "   if isanswer(answer,answersheet):\n",
    "       print(status(answer,answersheet))\n",
    "       print(\"정답축하해요\")\n",
    "   else:\n",
    "       print(\"다음기회에/..\")"
   ]
  },
  {
   "cell_type": "code",
   "execution_count": null,
   "metadata": {
    "scrolled": true
   },
   "outputs": [],
   "source": [
    "hangman('apple')"
   ]
  },
  {
   "cell_type": "code",
   "execution_count": null,
   "metadata": {},
   "outputs": [],
   "source": [
    "letters = []"
   ]
  },
  {
   "cell_type": "code",
   "execution_count": null,
   "metadata": {},
   "outputs": [],
   "source": [
    "letters += input() \n",
    "print(sorted(letters))"
   ]
  },
  {
   "cell_type": "code",
   "execution_count": null,
   "metadata": {},
   "outputs": [],
   "source": [
    "count = 0\n",
    "while count < 8:\n",
    "    count += 1\n",
    "    print(count)\n",
    "print(count)"
   ]
  }
 ],
 "metadata": {
  "kernelspec": {
   "display_name": "Python 3",
   "language": "python",
   "name": "python3"
  },
  "language_info": {
   "codemirror_mode": {
    "name": "ipython",
    "version": 3
   },
   "file_extension": ".py",
   "mimetype": "text/x-python",
   "name": "python",
   "nbconvert_exporter": "python",
   "pygments_lexer": "ipython3",
   "version": "3.6.7"
  },
  "latex_envs": {
   "LaTeX_envs_menu_present": true,
   "autoclose": false,
   "autocomplete": true,
   "bibliofile": "biblio.bib",
   "cite_by": "apalike",
   "current_citInitial": 1,
   "eqLabelWithNumbers": true,
   "eqNumInitial": 1,
   "hotkeys": {
    "equation": "Ctrl-E",
    "itemize": "Ctrl-I"
   },
   "labels_anchors": false,
   "latex_user_defs": false,
   "report_style_numbering": false,
   "user_envs_cfg": false
  },
  "toc": {
   "base_numbering": 1,
   "nav_menu": {},
   "number_sections": true,
   "sideBar": true,
   "skip_h1_title": false,
   "title_cell": "Table of Contents",
   "title_sidebar": "Contents",
   "toc_cell": false,
   "toc_position": {},
   "toc_section_display": true,
   "toc_window_display": false
  }
 },
 "nbformat": 4,
 "nbformat_minor": 2
}

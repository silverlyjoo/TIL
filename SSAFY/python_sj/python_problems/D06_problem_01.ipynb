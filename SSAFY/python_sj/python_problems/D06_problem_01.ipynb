{
 "cells": [
  {
   "cell_type": "markdown",
   "metadata": {},
   "source": [
    "# 통과한 시험\n",
    "\n",
    "> 딕셔너리 형태로 언어 및 각 테스트의 결과가 주어지면 테스트 점수가 60 이상인 언어 목록의 결과를 내림차순으로 정렬된 리스트를 반환하는 `passpass` 함수를 작성하세요. (중복되는 점수는 없습니다.)\n",
    "\n",
    "예시)\n",
    "\n",
    "```python\n",
    "passpass({\"Java\": 10, \"Ruby\": 80, \"Python\": 65}) #=> ['Ruby', 'Python']\n",
    "```"
   ]
  },
  {
   "cell_type": "code",
   "execution_count": 4,
   "metadata": {},
   "outputs": [],
   "source": [
    "# 여기에 코드를 작성하세요.\n",
    "def passpass(results): \n",
    "    return [key for key, value in results.items() if value >=60]\n"
   ]
  },
  {
   "cell_type": "code",
   "execution_count": 5,
   "metadata": {},
   "outputs": [
    {
     "name": "stdout",
     "output_type": "stream",
     "text": [
      "['Ruby', 'Python']\n"
     ]
    }
   ],
   "source": [
    "# 해당 코드를 통해 올바른 결과가 나오는지 확인하세요.\n",
    "print(passpass({\"Java\": 10, \"Ruby\": 80, \"Python\": 65}))"
   ]
  },
  {
   "cell_type": "markdown",
   "metadata": {},
   "source": [
    "# 나만의 딕셔너리 생성기\n",
    "\n",
    "> key의 리스트와 value의 리스트로 딕셔너리를 생성하여 return 하는 `create_dict(keys, values)` 함수를 작성하세요.\n",
    ">\n",
    ">만약에 value의 갯수가 key의 갯수보다 부족한 경우, None을 채워 넣어야 합니다. 반대로 key의 갯수가 부족한 경우, 초과하는 value들은 무시해도 됩니다.\n",
    "\n",
    "예시)\n",
    "```python\n",
    "create_dict(['a', 'b', 'c', 'd'], [1, 2, 3]) #=> {'a': 1, 'b': 2, 'c': 3, 'd': None}\n",
    "create_dict(['a', 'b', 'c'], [1, 2, 3, 4]) #=> {'a': 1, 'b': 2, 'c': 3}\n",
    "```"
   ]
  },
  {
   "cell_type": "code",
   "execution_count": 17,
   "metadata": {},
   "outputs": [],
   "source": [
    "def create_dict(keys, values):\n",
    "    while len(keys) > len(values):\n",
    "        values.append(None)\n",
    "    return {key : value for key, value in zip(keys, values)}"
   ]
  },
  {
   "cell_type": "code",
   "execution_count": 19,
   "metadata": {},
   "outputs": [],
   "source": [
    "def create_dict(keys, values):\n",
    "    while len(keys) > len(values):\n",
    "        values.append(None)\n",
    "    return dict(zip(keys,values))"
   ]
  },
  {
   "cell_type": "code",
   "execution_count": null,
   "metadata": {},
   "outputs": [],
   "source": []
  },
  {
   "cell_type": "code",
   "execution_count": 20,
   "metadata": {},
   "outputs": [
    {
     "name": "stdout",
     "output_type": "stream",
     "text": [
      "{'a': 1, 'b': 2, 'c': 3, 'd': None, 'f': None, 'g': None}\n",
      "{'a': 1, 'b': 2, 'c': 3}\n"
     ]
    }
   ],
   "source": [
    "# 해당 코드를 통해 올바른 결과가 나오는지 확인하세요.\n",
    "print(create_dict(['a', 'b', 'c', 'd', 'f', 'g'], [1, 2, 3]))\n",
    "print(create_dict(['a', 'b', 'c'], [1, 2, 3, 4]))"
   ]
  }
 ],
 "metadata": {
  "kernelspec": {
   "display_name": "Python 3",
   "language": "python",
   "name": "python3"
  },
  "language_info": {
   "codemirror_mode": {
    "name": "ipython",
    "version": 3
   },
   "file_extension": ".py",
   "mimetype": "text/x-python",
   "name": "python",
   "nbconvert_exporter": "python",
   "pygments_lexer": "ipython3",
   "version": "3.6.7"
  },
  "toc": {
   "base_numbering": 1,
   "nav_menu": {},
   "number_sections": true,
   "sideBar": true,
   "skip_h1_title": false,
   "title_cell": "Table of Contents",
   "title_sidebar": "Contents",
   "toc_cell": false,
   "toc_position": {},
   "toc_section_display": true,
   "toc_window_display": false
  }
 },
 "nbformat": 4,
 "nbformat_minor": 2
}

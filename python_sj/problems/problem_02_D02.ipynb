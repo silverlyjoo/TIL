{
 "cells": [
  {
   "cell_type": "code",
   "execution_count": 1,
   "metadata": {},
   "outputs": [
    {
     "ename": "SyntaxError",
     "evalue": "invalid character in identifier (<ipython-input-1-38bca315ad55>, line 1)",
     "output_type": "error",
     "traceback": [
      "\u001b[1;36m  File \u001b[1;32m\"<ipython-input-1-38bca315ad55>\"\u001b[1;36m, line \u001b[1;32m1\u001b[0m\n\u001b[1;33m    int(‘3.5’)\u001b[0m\n\u001b[1;37m         ^\u001b[0m\n\u001b[1;31mSyntaxError\u001b[0m\u001b[1;31m:\u001b[0m invalid character in identifier\n"
     ]
    }
   ],
   "source": [
    "int(‘3.5’)"
   ]
  },
  {
   "cell_type": "markdown",
   "metadata": {},
   "source": [
    "**문제 3.**\n",
    "\n",
    "> 1937년 Collatz란 사람에 의해 제기된 이 추측은, 주어진 수가 1이 될때까지 다음 작업을 반복하면, 모든 수를 1로 만들 수 있다는 추측입니다. 작업은 다음과 같습니다.\n",
    ">\n",
    "> 1. 입력된 수가 짝수라면 2로 나눕니다. \n",
    "> 2. 입력된 수가 홀수라면 3을 곱하고 1을 더합니다.\n",
    "> 3. 결과로 나온 수에 같은 작업을 1이 될 때까지 반복합니다.\n",
    ">\n",
    "> 예를 들어, 입력된 수가 6이라면 6→3→10→5→16→8→4→2→1 이 되어 총 8번 만에 1이 됩니다.\n",
    ">\n",
    "> 위 작업을 몇 번이나 반복해야하는지 반환하는 함수, collatz를 완성해 주세요.\n",
    ">\n",
    "> 단, 작업을 500번을 반복해도 1이 되지 않는다면 –1을 반환해 주세요.\n",
    "\n",
    "예시)\n",
    "\n",
    "```python\n",
    "collatz(6) #=> 8\n",
    "collatz(16) #=> 4\n",
    "collatz(626331) #=> -1\n",
    "```"
   ]
  },
  {
   "cell_type": "code",
   "execution_count": 10,
   "metadata": {},
   "outputs": [],
   "source": [
    "# 여기에 코드를 작성하세요.\n",
    "# def collatz(number):\n",
    "#     count = 0\n",
    "#     while args != 1:\n",
    "#         if args % 2:\n",
    "#             args = args*3 + 1\n",
    "#             count += 1\n",
    "#         elif count < 500:\n",
    "#             args = args/2\n",
    "#             count += 1\n",
    "#         else:\n",
    "#             count = -1\n",
    "#             break\n",
    "#     return count\n",
    "\n",
    "def collatz(num):\n",
    "    for i in range(500):\n",
    "        num = num/2 if num % 2 == 0 else num*3 + 1\n",
    "        if num == 1:\n",
    "            return i + 1\n",
    "    return -1\n",
    "        \n",
    "        "
   ]
  },
  {
   "cell_type": "code",
   "execution_count": 11,
   "metadata": {},
   "outputs": [
    {
     "name": "stdout",
     "output_type": "stream",
     "text": [
      "8\n",
      "4\n",
      "-1\n"
     ]
    }
   ],
   "source": [
    "print(collatz(6))\n",
    "print(collatz(16))\n",
    "print(collatz(626331))"
   ]
  },
  {
   "cell_type": "markdown",
   "metadata": {},
   "source": [
    "**문제 4.**\n",
    "\n",
    "> 리스트가 주어집니다. 리스트의 각 요소는 숫자 0부터 9까지로 이루어져 있습니다. \n",
    ">\n",
    "> 이때, 리스트에서 연속적으로 나타나는 숫자는 하나만 남기고 전부 제거하려고 합니다. \n",
    ">\n",
    "> 리스트에서 연속적으로 나타나는 숫자는 제거하고 남은 수들을 반환하는 lonely 함수를 작성해 주세요.\n",
    ">\n",
    "> 단, 제거된 후 남은 수들을 반환할 때는 리스트의 요소들의 순서를 유지해야 합니다.  \n",
    "\n",
    "예시)\n",
    "\n",
    "```python\n",
    "lonely([1, 1, 3, 3, 0, 1, 1]) #=> [1, 3, 0, 1]\n",
    "lonely([4,4,4,3,3]) #=> [4,3]\n",
    "```\n"
   ]
  },
  {
   "cell_type": "code",
   "execution_count": 15,
   "metadata": {},
   "outputs": [],
   "source": [
    "# 여기에 코드를 작성하세요.\n",
    "\n",
    "#반장님 풀이\n",
    "def lonely(numbers):\n",
    "    start_num = numbers[0]\n",
    "    lone_list = [start_num]\n",
    "    for num in numbers:\n",
    "        if start_num != num:\n",
    "            lone_list.append(num)\n",
    "            start_num = num\n",
    "    return lone_list\n",
    "\n"
   ]
  },
  {
   "cell_type": "code",
   "execution_count": 17,
   "metadata": {},
   "outputs": [
    {
     "name": "stdout",
     "output_type": "stream",
     "text": [
      "[1, 3, 0, 1]\n",
      "[4, 3]\n"
     ]
    }
   ],
   "source": [
    "print(lonely([1, 1, 3, 3, 0, 1, 1]))\n",
    "print(lonely([4,4,4,3,3]))"
   ]
  },
  {
   "cell_type": "markdown",
   "metadata": {},
   "source": [
    "## 문제5.\n",
    "\n",
    ">영어 이름은 가운데 이름을 가지는 경우가 있는데\n",
    ">가운데 이름을 대문자 한글자로 축약해서 나타내는 함수 'shorten' 함수를 작성해보세요.\n",
    "\n",
    "예시)\n",
    "\n",
    "```python\n",
    "shorten('Alice betty catherine David') #=> 'Alice B. C. David'\n",
    "```"
   ]
  },
  {
   "cell_type": "code",
   "execution_count": 51,
   "metadata": {},
   "outputs": [
    {
     "name": "stdout",
     "output_type": "stream",
     "text": [
      "<class 'str'>\n",
      "Alice B. C. David\n",
      "Alice B. S. C. G. C. David\n"
     ]
    }
   ],
   "source": [
    "# def shorten(names):\n",
    "#     name_list = names.split()\n",
    "#     shorten_name = [name_list[0],\" \"]\n",
    "#     for i in range(1, len(name_list)):\n",
    "#         if i != len(name_list)-1:\n",
    "#             cap_mid = name_list[i][0].upper() + \". \"\n",
    "#             shorten_name.append(cap_mid)\n",
    "#         else:\n",
    "#             shorten_name.append(name_list[i])\n",
    "#     b = ''.join(shorten_name)\n",
    "#     return b\n",
    "\n",
    "def shorten(name):\n",
    "    names = name.split()\n",
    "    for i in range(1, len(names)-1):\n",
    "        names[i] = names[i][0].upper() + \".\"\n",
    "    return ' '.join(names)\n",
    "\n",
    "print(type(shorten('Alice betty catherine David')))\n",
    "print(shorten('Alice betty catherine David'))\n",
    "print(shorten('Alice betty shit cool great catherine David'))"
   ]
  },
  {
   "cell_type": "code",
   "execution_count": 24,
   "metadata": {},
   "outputs": [
    {
     "name": "stdout",
     "output_type": "stream",
     "text": [
      "['Alice', 'betty', 'catherine', 'David']\n",
      "AlicebettycatherineDavid\n"
     ]
    }
   ],
   "source": [
    "a = \"Alice betty catherine David\"\n",
    "b = a.split()\n",
    "print(b)\n",
    "print(''.join(b))\n",
    "\n"
   ]
  },
  {
   "cell_type": "code",
   "execution_count": 28,
   "metadata": {},
   "outputs": [
    {
     "name": "stdout",
     "output_type": "stream",
     "text": [
      "[' ', 2]\n"
     ]
    }
   ],
   "source": [
    "a = []\n",
    "b = 2\n",
    "a.append(\" \")\n",
    "a.append(b)\n",
    "print(a)"
   ]
  },
  {
   "cell_type": "code",
   "execution_count": 1,
   "metadata": {},
   "outputs": [
    {
     "name": "stdout",
     "output_type": "stream",
     "text": [
      "Alice B.  C.  D.  Q.  Q. wewqe\n"
     ]
    }
   ],
   "source": [
    "def shorten(full_name):\n",
    "    name_list = []   #이름 word 별로 저장할 리스트\n",
    "    name_str = \"\"   #이름조각을 임시저장소\n",
    "    gubun =\" \"      #이름조각 구분단위\n",
    "    \n",
    "#문자열열을 name_list에 입력하기\n",
    "\n",
    "    for alpha in full_name:       #풀 네임에서 각 단어별로 받아옴\n",
    "            if alpha == gubun:    # 만약 받아온 알파벳이 공백일 경우\n",
    "                name_list.append(name_str) #여태 저장한 이름조각을 리스트에 보내줌\n",
    "                name_str = \"\"    #이름 임시저장소 초기화\n",
    "            else: \n",
    "                name_str += alpha #받아온단어가 공백이아니면 임시저장소에 붙여씀\n",
    "    else:    #마지막 단어에 도달하고 빠져나갈때 리스트에 이름조각 추가\n",
    "        name_list.append(name_str)\n",
    "\n",
    "#  name_list로 출력문 result 완성하기\n",
    "\n",
    "    result = name_list.pop(0) #리스트 제일 처음에 있는거 빼옴\n",
    "    \n",
    "    while len(name_list) > 1: #리스트가 한개 남을때 까지 대문자 . 으로 빼와서더해줌 \n",
    "        result += f\" {(name_list.pop(0))[0].title()}. \"       \n",
    "    \n",
    "    result += name_list.pop() #마지막단어 그대로 더해주기\n",
    "    \n",
    "    return result\n",
    "        \n",
    "print(shorten(\"Alice Betwqety Catherqweine David qweqwe qweq wewqe\"))\n"
   ]
  }
 ],
 "metadata": {
  "kernelspec": {
   "display_name": "Python 3",
   "language": "python",
   "name": "python3"
  },
  "language_info": {
   "codemirror_mode": {
    "name": "ipython",
    "version": 3
   },
   "file_extension": ".py",
   "mimetype": "text/x-python",
   "name": "python",
   "nbconvert_exporter": "python",
   "pygments_lexer": "ipython3",
   "version": "3.6.7"
  },
  "toc": {
   "base_numbering": 1,
   "nav_menu": {},
   "number_sections": true,
   "sideBar": true,
   "skip_h1_title": false,
   "title_cell": "Table of Contents",
   "title_sidebar": "Contents",
   "toc_cell": false,
   "toc_position": {},
   "toc_section_display": true,
   "toc_window_display": false
  }
 },
 "nbformat": 4,
 "nbformat_minor": 2
}
